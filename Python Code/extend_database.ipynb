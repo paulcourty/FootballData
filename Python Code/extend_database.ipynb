{
 "cells": [
  {
   "cell_type": "markdown",
   "id": "4cd2a2ae-f2c8-451a-987d-a2d9636c3db5",
   "metadata": {},
   "source": [
    "# Pronosoft Football Data - Extend Database"
   ]
  },
  {
   "cell_type": "markdown",
   "id": "e3d14c89-6796-4594-a4c8-6bb409c26ec0",
   "metadata": {},
   "source": [
    "Extend original Database with additional columns & features:\n",
    "- Expected Value (EV)\n",
    "- Match Outcome (1, N or 2)\n",
    "- Pronosoft Prediction Outcome (0 or 1)"
   ]
  },
  {
   "cell_type": "markdown",
   "id": "02524dab-028f-44d8-8db0-75aeed6e864d",
   "metadata": {},
   "source": [
    "---"
   ]
  },
  {
   "cell_type": "markdown",
   "id": "7d23b491-7406-48ea-b289-78a89affce98",
   "metadata": {},
   "source": [
    "---"
   ]
  },
  {
   "cell_type": "markdown",
   "id": "5d357b9c-70d0-40a9-92bb-d61ec1c36c4c",
   "metadata": {},
   "source": [
    "# Import Lib"
   ]
  },
  {
   "cell_type": "code",
   "execution_count": 1,
   "id": "c275669a-58d1-4d3c-a2a5-73f5427b4e2c",
   "metadata": {},
   "outputs": [],
   "source": [
    "import sys\n",
    "import os\n",
    "from os import path\n",
    "import matplotlib.pyplot as plt\n",
    "import numpy as np\n",
    "import pandas as pd\n",
    "import csv\n",
    "\n",
    "import datetime as dt"
   ]
  },
  {
   "cell_type": "markdown",
   "id": "283880a0-cf6e-4452-8572-16d4e076c976",
   "metadata": {},
   "source": [
    "---"
   ]
  },
  {
   "cell_type": "markdown",
   "id": "32220e7e-1407-4750-ac8c-083e97f78feb",
   "metadata": {},
   "source": [
    "# Paths"
   ]
  },
  {
   "cell_type": "code",
   "execution_count": 2,
   "id": "b8914fc1-557e-4061-8b83-c2c0e7f9abee",
   "metadata": {},
   "outputs": [],
   "source": [
    "folder_data = '..\\Data'\n",
    "csv_name = folder_data + '\\pronosoft_data.csv'\n",
    "csv_name_extended = folder_data + '\\pronosoft_data_extended.csv'"
   ]
  },
  {
   "cell_type": "markdown",
   "id": "2b356685-338d-4521-a123-a14bc3172eb6",
   "metadata": {},
   "source": [
    "---"
   ]
  },
  {
   "cell_type": "markdown",
   "id": "b26c5dcc-2431-49a3-b885-e1cf8ff41626",
   "metadata": {},
   "source": [
    "# Functions"
   ]
  },
  {
   "cell_type": "markdown",
   "id": "3cd35b90-bac3-4886-a7ad-b7a06447f13f",
   "metadata": {},
   "source": [
    "Find Insert Column Location"
   ]
  },
  {
   "cell_type": "code",
   "execution_count": 3,
   "id": "9dc3cfc4-3817-462c-9402-928f06d32302",
   "metadata": {
    "jupyter": {
     "source_hidden": true
    },
    "tags": []
   },
   "outputs": [],
   "source": [
    "def find_insert_loc(col_next_to):\n",
    "    col_next_loc = list(df_pronosoft_data.columns).index(col_next_to)\n",
    "    return col_next_loc + 1"
   ]
  },
  {
   "cell_type": "markdown",
   "id": "db34c3ef-207e-4649-b820-85ed2c0d0500",
   "metadata": {},
   "source": [
    "Compute Expected Value (EV)"
   ]
  },
  {
   "cell_type": "code",
   "execution_count": 4,
   "id": "c2e4fb9b-9cd5-45ee-ba55-cae7413cf17a",
   "metadata": {
    "jupyter": {
     "source_hidden": true
    },
    "tags": []
   },
   "outputs": [],
   "source": [
    "def get_col_ev(col_prob, col_odd):    \n",
    "    col_ev = col_prob * (col_odd.astype(float) - 1) - (1 - col_prob)\n",
    "    return np.round(col_ev, 2)"
   ]
  },
  {
   "cell_type": "markdown",
   "id": "65dbaf8d-c36d-402f-be06-8228db7f4502",
   "metadata": {},
   "source": [
    "Get Pronosoft Prediction Outcome"
   ]
  },
  {
   "cell_type": "code",
   "execution_count": 5,
   "id": "0d904604-e10b-4386-bf60-59de5fc9f66b",
   "metadata": {
    "jupyter": {
     "source_hidden": true
    },
    "tags": []
   },
   "outputs": [],
   "source": [
    "def get_col_prediction_team_outcome(col_bet, col_match_outcome):\n",
    "    col_bet_outcome = []\n",
    "    \n",
    "    for idx in range(len(col_bet)):\n",
    "        if not pd.isna(col_bet[idx]) and col_match_outcome[idx] in col_bet[idx]:\n",
    "            col_bet_outcome.append(1)\n",
    "        elif not pd.isna(col_bet[idx]) and col_match_outcome[idx] not in col_bet[idx]:\n",
    "            col_bet_outcome.append(0)\n",
    "        else:\n",
    "            col_bet_outcome.append(None)\n",
    "    \n",
    "    return col_bet_outcome"
   ]
  },
  {
   "cell_type": "code",
   "execution_count": 6,
   "id": "75c75bfd-1f3b-454a-abac-fc413a44cb47",
   "metadata": {
    "jupyter": {
     "source_hidden": true
    },
    "tags": []
   },
   "outputs": [],
   "source": [
    "def get_col_prediction_uo_outcome(col_bet, col_score_team_1, col_score_team_2):\n",
    "    col_bet_outcome = []\n",
    "    \n",
    "    for idx in range(len(col_bet)):\n",
    "        if pd.isna(col_bet[idx]):\n",
    "            col_bet_outcome.append(None)\n",
    "        else:\n",
    "            if (col_score_team_1[idx] + col_score_team_2[idx]) < 2.5 and col_bet[idx] == 'U':\n",
    "                col_bet_outcome.append(1)\n",
    "            elif (col_score_team_1[idx] + col_score_team_2[idx]) > 2.5 and col_bet[idx] == 'O':\n",
    "                col_bet_outcome.append(1)\n",
    "            else:\n",
    "                col_bet_outcome.append(0)\n",
    "    \n",
    "    return col_bet_outcome"
   ]
  },
  {
   "cell_type": "markdown",
   "id": "83697093-8ecb-45fe-acc7-7c852c00b18f",
   "metadata": {},
   "source": [
    "Get Match Outcome"
   ]
  },
  {
   "cell_type": "code",
   "execution_count": 7,
   "id": "48923d50-f109-4842-9c46-fd06bf417165",
   "metadata": {
    "jupyter": {
     "source_hidden": true
    },
    "tags": []
   },
   "outputs": [],
   "source": [
    "def get_col_match_outcome(col_score_team_1, col_score_team_2):\n",
    "    col_match_outcome = []\n",
    "    \n",
    "    for idx in range(len(col_score_team_1)):\n",
    "        if col_score_team_1[idx] > col_score_team_2[idx]:\n",
    "            col_match_outcome.append('1')\n",
    "        elif col_score_team_1[idx] < col_score_team_2[idx]:\n",
    "            col_match_outcome.append('2')\n",
    "        else:\n",
    "            col_match_outcome.append('N')\n",
    "            \n",
    "    return col_match_outcome"
   ]
  },
  {
   "cell_type": "markdown",
   "id": "f74006ef-f499-43b0-ad83-ab4d5d65f98f",
   "metadata": {},
   "source": [
    "Get Probabilities of outcome from Betting Odds"
   ]
  },
  {
   "cell_type": "code",
   "execution_count": 8,
   "id": "b478e315-6a3a-43df-8c28-3eed0a44c3d9",
   "metadata": {
    "jupyter": {
     "source_hidden": true
    },
    "tags": []
   },
   "outputs": [],
   "source": [
    "def get_col_prob_from_odds(col_target_outcome, col_other_outcome_1, col_other_outcome_2):    \n",
    "    \n",
    "    col_prob_from_odds = 1 / (col_target_outcome * ((1/col_target_outcome) + (1/col_other_outcome_1) + (1/col_other_outcome_2)))\n",
    "    \n",
    "    return np.round(col_prob_from_odds, 2)"
   ]
  },
  {
   "cell_type": "markdown",
   "id": "09a53c07-70ed-49fd-a6ea-2f245dba6798",
   "metadata": {},
   "source": [
    "Modify Field Names"
   ]
  },
  {
   "cell_type": "code",
   "execution_count": 9,
   "id": "550de7bd-4bf0-4838-a25b-f34f5a5a385c",
   "metadata": {
    "jupyter": {
     "source_hidden": true
    },
    "tags": []
   },
   "outputs": [],
   "source": [
    "def mod_field_names(new_field_names):\n",
    "    df = pd.read_csv(csv_name)\n",
    "    cols = df.columns\n",
    "\n",
    "    new_names = {cols[i]: new_field_names[i] for i in range(len(new_field_names))}\n",
    "\n",
    "    df_mod = df_pronosoft_data.rename(columns = new_names)\n",
    "    df_mod.to_csv(csv_name, index = False)"
   ]
  },
  {
   "cell_type": "markdown",
   "id": "b680c4bc-34c9-4210-9090-8fc13368575e",
   "metadata": {},
   "source": [
    "---"
   ]
  },
  {
   "cell_type": "markdown",
   "id": "a6366c17-f35c-4e73-b367-9c507a9e43b9",
   "metadata": {},
   "source": [
    "---"
   ]
  },
  {
   "cell_type": "markdown",
   "id": "6e7bf02d-9fb8-4efd-91a9-cbac375f1822",
   "metadata": {},
   "source": [
    "# Import CSV to Dataframe"
   ]
  },
  {
   "cell_type": "code",
   "execution_count": 10,
   "id": "e1c12e41-c0eb-4650-b524-3756f071db45",
   "metadata": {},
   "outputs": [
    {
     "data": {
      "text/html": [
       "<div>\n",
       "<style scoped>\n",
       "    .dataframe tbody tr th:only-of-type {\n",
       "        vertical-align: middle;\n",
       "    }\n",
       "\n",
       "    .dataframe tbody tr th {\n",
       "        vertical-align: top;\n",
       "    }\n",
       "\n",
       "    .dataframe thead th {\n",
       "        text-align: right;\n",
       "    }\n",
       "</style>\n",
       "<table border=\"1\" class=\"dataframe\">\n",
       "  <thead>\n",
       "    <tr style=\"text-align: right;\">\n",
       "      <th></th>\n",
       "      <th>date</th>\n",
       "      <th>league</th>\n",
       "      <th>time</th>\n",
       "      <th>team_1_name</th>\n",
       "      <th>team_2_name</th>\n",
       "      <th>team_1_prob</th>\n",
       "      <th>team_1_bet_odds</th>\n",
       "      <th>nul_prob</th>\n",
       "      <th>nul_bet_odds</th>\n",
       "      <th>team_2_prob</th>\n",
       "      <th>team_2_bet_odds</th>\n",
       "      <th>prediction_team_pronosoft</th>\n",
       "      <th>under_prob</th>\n",
       "      <th>under_bet_odds</th>\n",
       "      <th>over_prob</th>\n",
       "      <th>over_bet_odds</th>\n",
       "      <th>prediction_uo_pronosoft</th>\n",
       "      <th>team_1_score</th>\n",
       "      <th>team_2_score</th>\n",
       "    </tr>\n",
       "  </thead>\n",
       "  <tbody>\n",
       "    <tr>\n",
       "      <th>0</th>\n",
       "      <td>01-10-2018</td>\n",
       "      <td>France - Ligue 2</td>\n",
       "      <td>20:45</td>\n",
       "      <td>Troyes</td>\n",
       "      <td>Auxerre</td>\n",
       "      <td>0.39</td>\n",
       "      <td>2.75</td>\n",
       "      <td>0.18</td>\n",
       "      <td>3.10</td>\n",
       "      <td>0.43</td>\n",
       "      <td>2.80</td>\n",
       "      <td>NaN</td>\n",
       "      <td>0.68</td>\n",
       "      <td>1.46</td>\n",
       "      <td>0.32</td>\n",
       "      <td>2.00</td>\n",
       "      <td>U</td>\n",
       "      <td>1</td>\n",
       "      <td>0</td>\n",
       "    </tr>\n",
       "    <tr>\n",
       "      <th>1</th>\n",
       "      <td>01-10-2018</td>\n",
       "      <td>Espagne - Liga Espagnole</td>\n",
       "      <td>21:00</td>\n",
       "      <td>Celta Vigo</td>\n",
       "      <td>Getafe</td>\n",
       "      <td>0.33</td>\n",
       "      <td>2.15</td>\n",
       "      <td>0.38</td>\n",
       "      <td>3.20</td>\n",
       "      <td>0.30</td>\n",
       "      <td>3.60</td>\n",
       "      <td>N</td>\n",
       "      <td>0.51</td>\n",
       "      <td>1.53</td>\n",
       "      <td>0.49</td>\n",
       "      <td>1.88</td>\n",
       "      <td>NaN</td>\n",
       "      <td>1</td>\n",
       "      <td>1</td>\n",
       "    </tr>\n",
       "    <tr>\n",
       "      <th>2</th>\n",
       "      <td>01-10-2018</td>\n",
       "      <td>Angleterre - Premier League</td>\n",
       "      <td>21:00</td>\n",
       "      <td>Bournemouth</td>\n",
       "      <td>Crystal Palace</td>\n",
       "      <td>0.39</td>\n",
       "      <td>2.20</td>\n",
       "      <td>0.25</td>\n",
       "      <td>3.40</td>\n",
       "      <td>0.36</td>\n",
       "      <td>3.20</td>\n",
       "      <td>NaN</td>\n",
       "      <td>0.40</td>\n",
       "      <td>1.85</td>\n",
       "      <td>0.60</td>\n",
       "      <td>1.65</td>\n",
       "      <td>O</td>\n",
       "      <td>2</td>\n",
       "      <td>1</td>\n",
       "    </tr>\n",
       "    <tr>\n",
       "      <th>3</th>\n",
       "      <td>01-10-2018</td>\n",
       "      <td>Italie - Serie A</td>\n",
       "      <td>20:30</td>\n",
       "      <td>Sampdoria</td>\n",
       "      <td>Spal</td>\n",
       "      <td>0.41</td>\n",
       "      <td>1.72</td>\n",
       "      <td>0.25</td>\n",
       "      <td>3.50</td>\n",
       "      <td>0.33</td>\n",
       "      <td>4.80</td>\n",
       "      <td>NaN</td>\n",
       "      <td>0.57</td>\n",
       "      <td>1.67</td>\n",
       "      <td>0.43</td>\n",
       "      <td>1.85</td>\n",
       "      <td>NaN</td>\n",
       "      <td>2</td>\n",
       "      <td>1</td>\n",
       "    </tr>\n",
       "    <tr>\n",
       "      <th>4</th>\n",
       "      <td>01-10-2018</td>\n",
       "      <td>Portugal - Primeira Liga</td>\n",
       "      <td>21:15</td>\n",
       "      <td>Aves</td>\n",
       "      <td>Portimonense</td>\n",
       "      <td>0.40</td>\n",
       "      <td>2.60</td>\n",
       "      <td>0.30</td>\n",
       "      <td>3.25</td>\n",
       "      <td>0.30</td>\n",
       "      <td>2.45</td>\n",
       "      <td>NaN</td>\n",
       "      <td>0.69</td>\n",
       "      <td>1.66</td>\n",
       "      <td>0.31</td>\n",
       "      <td>1.73</td>\n",
       "      <td>U</td>\n",
       "      <td>3</td>\n",
       "      <td>0</td>\n",
       "    </tr>\n",
       "  </tbody>\n",
       "</table>\n",
       "</div>"
      ],
      "text/plain": [
       "         date                       league   time  team_1_name  \\\n",
       "0  01-10-2018             France - Ligue 2  20:45       Troyes   \n",
       "1  01-10-2018     Espagne - Liga Espagnole  21:00   Celta Vigo   \n",
       "2  01-10-2018  Angleterre - Premier League  21:00  Bournemouth   \n",
       "3  01-10-2018             Italie - Serie A  20:30    Sampdoria   \n",
       "4  01-10-2018     Portugal - Primeira Liga  21:15         Aves   \n",
       "\n",
       "      team_2_name  team_1_prob  team_1_bet_odds  nul_prob  nul_bet_odds  \\\n",
       "0         Auxerre         0.39             2.75      0.18          3.10   \n",
       "1          Getafe         0.33             2.15      0.38          3.20   \n",
       "2  Crystal Palace         0.39             2.20      0.25          3.40   \n",
       "3            Spal         0.41             1.72      0.25          3.50   \n",
       "4    Portimonense         0.40             2.60      0.30          3.25   \n",
       "\n",
       "   team_2_prob  team_2_bet_odds prediction_team_pronosoft  under_prob  \\\n",
       "0         0.43             2.80                       NaN        0.68   \n",
       "1         0.30             3.60                         N        0.51   \n",
       "2         0.36             3.20                       NaN        0.40   \n",
       "3         0.33             4.80                       NaN        0.57   \n",
       "4         0.30             2.45                       NaN        0.69   \n",
       "\n",
       "   under_bet_odds  over_prob  over_bet_odds prediction_uo_pronosoft  \\\n",
       "0            1.46       0.32           2.00                       U   \n",
       "1            1.53       0.49           1.88                     NaN   \n",
       "2            1.85       0.60           1.65                       O   \n",
       "3            1.67       0.43           1.85                     NaN   \n",
       "4            1.66       0.31           1.73                       U   \n",
       "\n",
       "   team_1_score  team_2_score  \n",
       "0             1             0  \n",
       "1             1             1  \n",
       "2             2             1  \n",
       "3             2             1  \n",
       "4             3             0  "
      ]
     },
     "execution_count": 10,
     "metadata": {},
     "output_type": "execute_result"
    }
   ],
   "source": [
    "df_pronosoft_data = pd.read_csv(csv_name)\n",
    "df_pronosoft_data.head()"
   ]
  },
  {
   "cell_type": "markdown",
   "id": "5033a495-5e5e-496b-9aa7-adb33f67111e",
   "metadata": {},
   "source": [
    "Modify Field Names"
   ]
  },
  {
   "cell_type": "code",
   "execution_count": 11,
   "id": "744d2009-9c91-404f-93dd-59d12e131086",
   "metadata": {
    "jupyter": {
     "source_hidden": true
    },
    "tags": []
   },
   "outputs": [],
   "source": [
    "# new_field_names = [ \n",
    "#     \"date\",\n",
    "#     \"league\",\n",
    "#     \"time\",\n",
    "#     \"team_1_name\",\n",
    "#     \"team_2_name\",\n",
    "#     \"team_1_prob\",\n",
    "#     \"team_1_bet_odds\",\n",
    "#     \"nul_prob\",\n",
    "#     \"nul_bet_odds\",\n",
    "#     \"team_2_prob\",\n",
    "#     \"team_2_bet_odds\",\n",
    "#     \"prediction_team_pronosoft\",\n",
    "#     \"under_prob\",\n",
    "#     \"under_bet_odds\",\n",
    "#     \"over_prob\",\n",
    "#     \"over_bet_odds\",\n",
    "#     \"prediction_uo_pronosoft\",\n",
    "#     \"team_1_score\",\n",
    "#     \"team_2_score\"\n",
    "# ]\n",
    "\n",
    "# csv_to_mod = csv_name\n",
    "\n",
    "# mod_field_names(csv_to_mod, new_field_names)"
   ]
  },
  {
   "cell_type": "markdown",
   "id": "0076abf8-1c17-490b-a643-10d9a38767c9",
   "metadata": {},
   "source": [
    "---"
   ]
  },
  {
   "cell_type": "markdown",
   "id": "b41350f2-5322-47b0-96b2-72bd82080f76",
   "metadata": {},
   "source": [
    "# Add Features"
   ]
  },
  {
   "cell_type": "markdown",
   "id": "66c5a8c6-5279-4702-8dfb-b4559d2ebb36",
   "metadata": {},
   "source": [
    "Add EV"
   ]
  },
  {
   "cell_type": "code",
   "execution_count": 12,
   "id": "079a81a5-bbc3-4b6f-bcb6-43a0441db24d",
   "metadata": {
    "jupyter": {
     "source_hidden": true
    },
    "tags": []
   },
   "outputs": [],
   "source": [
    "cols_ev = {\n",
    "    'team_1_ev': find_insert_loc('team_1_bet_odds'), \n",
    "    'nul_ev': find_insert_loc('nul_bet_odds'),\n",
    "    'team_2_ev': find_insert_loc('team_2_bet_odds'),\n",
    "    'under_ev': find_insert_loc('under_bet_odds'),\n",
    "    'over_ev': find_insert_loc('over_bet_odds')\n",
    "}\n",
    "\n",
    "counter = 0\n",
    "for key, value in cols_ev.items():    \n",
    "    col_ev = get_col_ev(df_pronosoft_data[key[:-2] + 'prob'], df_pronosoft_data[key[:-2] + 'bet_odds'])\n",
    "    df_pronosoft_data.insert(loc = value + counter, column = key, value = col_ev, allow_duplicates = True)\n",
    "    \n",
    "    counter += 1"
   ]
  },
  {
   "cell_type": "markdown",
   "id": "0737909c-5dad-46f3-8e9d-635f6fa66ff6",
   "metadata": {},
   "source": [
    "Add Match Outcome"
   ]
  },
  {
   "cell_type": "code",
   "execution_count": 13,
   "id": "66267d47-6008-4bc1-909e-e92493e88abe",
   "metadata": {
    "jupyter": {
     "source_hidden": true
    },
    "tags": []
   },
   "outputs": [],
   "source": [
    "col_new = 'match_outcome'\n",
    "col_next_to = 'team_2_score'\n",
    "\n",
    "col_match_outcome = get_col_match_outcome(df_pronosoft_data['team_1_score'], df_pronosoft_data['team_2_score'])\n",
    "df_pronosoft_data.insert(loc = find_insert_loc(col_next_to), column = col_new, value = col_match_outcome, allow_duplicates = True)"
   ]
  },
  {
   "cell_type": "markdown",
   "id": "9052c543-2e77-44bb-970c-2c67ad524587",
   "metadata": {},
   "source": [
    "Add Prediction Outcome"
   ]
  },
  {
   "cell_type": "code",
   "execution_count": 14,
   "id": "d33a850c-bce6-4af4-a75c-de4aaf8d6343",
   "metadata": {
    "jupyter": {
     "source_hidden": true
    },
    "tags": []
   },
   "outputs": [],
   "source": [
    "col_new = 'prediction_team_pronosoft_outcome'\n",
    "col_next_to = 'prediction_team_pronosoft'\n",
    "\n",
    "col_match_outcome = get_col_prediction_team_outcome(df_pronosoft_data['prediction_team_pronosoft'], df_pronosoft_data['match_outcome'])\n",
    "df_pronosoft_data.insert(loc = find_insert_loc(col_next_to), column = col_new, value = col_match_outcome, allow_duplicates = True)"
   ]
  },
  {
   "cell_type": "code",
   "execution_count": 15,
   "id": "880f9c8c-9ca7-4c89-9e66-ffbbf0000844",
   "metadata": {
    "jupyter": {
     "source_hidden": true
    },
    "tags": []
   },
   "outputs": [],
   "source": [
    "col_new = 'prediction_uo_pronosoft_outcome'\n",
    "col_next_to = 'prediction_uo_pronosoft'\n",
    "\n",
    "col_match_outcome = get_col_prediction_uo_outcome(df_pronosoft_data['prediction_uo_pronosoft'], df_pronosoft_data['team_1_score'], df_pronosoft_data['team_2_score'])\n",
    "df_pronosoft_data.insert(loc = find_insert_loc(col_next_to), column = col_new, value = col_match_outcome, allow_duplicates = True)"
   ]
  },
  {
   "cell_type": "markdown",
   "id": "5edbc2da-a789-4132-bbc0-70dd07773680",
   "metadata": {},
   "source": [
    "Get Probabilities of outcome from Betting Odds"
   ]
  },
  {
   "cell_type": "markdown",
   "id": "fe29b2d8-72ce-4a82-a0d2-f2e492686f16",
   "metadata": {},
   "source": [
    "**Note**: We can calculate the Probability of Outcome from Betting Odds, which reflects Bookmakers belief & predictions about outcomes. \n",
    "\n",
    "Here is an example for Team 1:\n",
    "\n",
    "\\begin{equation*}\n",
    "Prob\\ (Team\\_1) =\n",
    "\\frac{1} { Team\\_1\\_odd \\times(\\frac{1}{Team\\_1\\_odd} + \\frac{1}{Nul\\_odd} + \\frac{1}{Team\\_2\\_odd})}\n",
    "\\end{equation*}"
   ]
  },
  {
   "cell_type": "code",
   "execution_count": 16,
   "id": "7a0b0973-1f48-4d2e-bc45-21108ef1466b",
   "metadata": {
    "jupyter": {
     "source_hidden": true
    },
    "tags": []
   },
   "outputs": [],
   "source": [
    "col_new = 'team_1_prob_from_odds'\n",
    "col_next_to = 'team_1_prob'\n",
    "\n",
    "col_prob_from_odds = get_col_prob_from_odds(df_pronosoft_data['team_1_bet_odds'], df_pronosoft_data['nul_bet_odds'], df_pronosoft_data['team_2_bet_odds'])\n",
    "df_pronosoft_data.insert(loc = find_insert_loc(col_next_to), column = col_new, value = col_prob_from_odds, allow_duplicates = True)"
   ]
  },
  {
   "cell_type": "code",
   "execution_count": 17,
   "id": "c87df0d0-71c5-45de-92e0-416c223901b1",
   "metadata": {
    "jupyter": {
     "source_hidden": true
    },
    "tags": []
   },
   "outputs": [],
   "source": [
    "col_new = 'nul_prob_from_odds'\n",
    "col_next_to = 'nul_prob'\n",
    "\n",
    "col_prob_from_odds = get_col_prob_from_odds(df_pronosoft_data['nul_bet_odds'], df_pronosoft_data['team_1_bet_odds'], df_pronosoft_data['team_2_bet_odds'])\n",
    "df_pronosoft_data.insert(loc = find_insert_loc(col_next_to), column = col_new, value = col_prob_from_odds, allow_duplicates = True)"
   ]
  },
  {
   "cell_type": "code",
   "execution_count": 18,
   "id": "587ff843-6f1d-4b10-9c73-4f05f4ccff01",
   "metadata": {
    "jupyter": {
     "source_hidden": true
    },
    "tags": []
   },
   "outputs": [],
   "source": [
    "col_new = 'team_2_prob_from_odds'\n",
    "col_next_to = 'team_2_prob'\n",
    "\n",
    "col_prob_from_odds = get_col_prob_from_odds(df_pronosoft_data['team_2_bet_odds'], df_pronosoft_data['team_1_bet_odds'], df_pronosoft_data['nul_bet_odds'])\n",
    "df_pronosoft_data.insert(loc = find_insert_loc(col_next_to), column = col_new, value = col_prob_from_odds, allow_duplicates = True)"
   ]
  },
  {
   "cell_type": "markdown",
   "id": "8b9a3200-4aa1-4d2a-a2b4-92167910476a",
   "metadata": {},
   "source": [
    "---"
   ]
  },
  {
   "cell_type": "markdown",
   "id": "f537b500-d060-4a28-9dc1-eb5703cac1aa",
   "metadata": {},
   "source": [
    "# Save to CSV | Extended Data"
   ]
  },
  {
   "cell_type": "code",
   "execution_count": 19,
   "id": "3b610a2f-1aad-44b6-9c40-e783d3aee2ab",
   "metadata": {},
   "outputs": [],
   "source": [
    "df_pronosoft_data.to_csv(csv_name_extended, index = False)"
   ]
  },
  {
   "cell_type": "markdown",
   "id": "4bec3c2c-4efb-4e93-888b-855f6ec88731",
   "metadata": {},
   "source": [
    "---"
   ]
  },
  {
   "cell_type": "markdown",
   "id": "7ae1817b-6bc7-4209-8a7f-ce92fbc2dc42",
   "metadata": {},
   "source": [
    "---"
   ]
  }
 ],
 "metadata": {
  "kernelspec": {
   "display_name": "Python 3",
   "language": "python",
   "name": "python3"
  },
  "language_info": {
   "codemirror_mode": {
    "name": "ipython",
    "version": 3
   },
   "file_extension": ".py",
   "mimetype": "text/x-python",
   "name": "python",
   "nbconvert_exporter": "python",
   "pygments_lexer": "ipython3",
   "version": "3.7.4"
  }
 },
 "nbformat": 4,
 "nbformat_minor": 5
}
