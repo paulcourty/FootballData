{
 "cells": [
  {
   "cell_type": "markdown",
   "metadata": {},
   "source": [
    "# Pronosoft Football Data - SQL | Database & Queries"
   ]
  },
  {
   "cell_type": "markdown",
   "metadata": {},
   "source": [
    "---"
   ]
  },
  {
   "cell_type": "markdown",
   "metadata": {},
   "source": [
    "Jupyter Notebook to \n",
    "- Run build_database.py\n",
    "    - Create 'Football_Data' database with SQLite\n",
    "    - Create 'Football_Bets' table\n",
    "    - Update table with pronosft_data CSV\n",
    "\n",
    "\n",
    "- Explore database\n",
    "    - Make a few exploratory queries with Python (_recommended to use Datagrip or other_)"
   ]
  },
  {
   "cell_type": "markdown",
   "metadata": {},
   "source": [
    "## SQLite VS PostgreSQL"
   ]
  },
  {
   "cell_type": "markdown",
   "metadata": {},
   "source": [
    "Considered using PostgreSQL, however for this solo project SQLite is simpler and more efficient"
   ]
  },
  {
   "cell_type": "markdown",
   "metadata": {},
   "source": [
    "Info @ https://tableplus.com/blog/2018/08/sqlite-vs-postgresql-which-database-to-use-and-why.html"
   ]
  },
  {
   "cell_type": "markdown",
   "metadata": {},
   "source": [
    "---"
   ]
  },
  {
   "cell_type": "markdown",
   "metadata": {},
   "source": [
    "---"
   ]
  },
  {
   "cell_type": "markdown",
   "metadata": {},
   "source": [
    "# Paths"
   ]
  },
  {
   "cell_type": "code",
   "execution_count": 1,
   "metadata": {},
   "outputs": [],
   "source": [
    "path_pronosoft_data = '..\\Data\\pronosoft_data.csv'\n",
    "path_pronosoft_data_extended = '..\\Data\\pronosoft_data_extended.csv'\n",
    "\n",
    "name_database = 'Football_Data.sqlite'\n",
    "path_database = '..\\\\SQL\\\\' + name_database"
   ]
  },
  {
   "cell_type": "markdown",
   "metadata": {},
   "source": [
    "---"
   ]
  },
  {
   "cell_type": "markdown",
   "metadata": {},
   "source": [
    "# Libraries"
   ]
  },
  {
   "cell_type": "code",
   "execution_count": 1,
   "metadata": {},
   "outputs": [],
   "source": [
    "import pandas as pd\n",
    "import sqlite3"
   ]
  },
  {
   "cell_type": "markdown",
   "metadata": {},
   "source": [
    "---"
   ]
  },
  {
   "cell_type": "markdown",
   "metadata": {},
   "source": [
    "# Functions"
   ]
  },
  {
   "cell_type": "markdown",
   "metadata": {},
   "source": [
    "Query to Dataframe"
   ]
  },
  {
   "cell_type": "code",
   "execution_count": 3,
   "metadata": {
    "jupyter": {
     "source_hidden": true
    },
    "tags": []
   },
   "outputs": [],
   "source": [
    "def query_to_df(database, query):\n",
    "    conn = sqlite3.connect(database)  \n",
    "    c = conn.cursor()\n",
    "    c.execute(query)\n",
    "    \n",
    "    # EXTRACT DATAFRAME\n",
    "    fields = [description[0] for description in c.description]\n",
    "    query_df = pd.DataFrame(c.fetchall(), columns = fields)\n",
    "    \n",
    "    conn.close()\n",
    "    \n",
    "    return query_df"
   ]
  },
  {
   "cell_type": "markdown",
   "metadata": {},
   "source": [
    "---"
   ]
  },
  {
   "cell_type": "markdown",
   "metadata": {},
   "source": [
    "---"
   ]
  },
  {
   "cell_type": "markdown",
   "metadata": {},
   "source": [
    "# Create Database & Table"
   ]
  },
  {
   "cell_type": "code",
   "execution_count": 4,
   "metadata": {},
   "outputs": [],
   "source": [
    "!python build_database.py"
   ]
  },
  {
   "cell_type": "markdown",
   "metadata": {},
   "source": [
    "---"
   ]
  },
  {
   "cell_type": "markdown",
   "metadata": {},
   "source": [
    "---"
   ]
  },
  {
   "cell_type": "markdown",
   "metadata": {},
   "source": [
    "# Explore Database"
   ]
  },
  {
   "cell_type": "markdown",
   "metadata": {},
   "source": [
    "Connect to database"
   ]
  },
  {
   "cell_type": "code",
   "execution_count": 4,
   "metadata": {},
   "outputs": [],
   "source": [
    "# !pip install ipython-sql\n",
    "\n",
    "%load_ext sql\n",
    "%sql sqlite:///../SQL/Football_Data.sqlite"
   ]
  },
  {
   "cell_type": "code",
   "execution_count": 6,
   "metadata": {},
   "outputs": [
    {
     "name": "stdout",
     "output_type": "stream",
     "text": [
      " * sqlite:///../SQL/Football_Data.sqlite\n",
      "Done.\n"
     ]
    },
    {
     "data": {
      "text/html": [
       "<table>\n",
       "    <tr>\n",
       "        <th>date</th>\n",
       "        <th>league</th>\n",
       "        <th>time</th>\n",
       "        <th>team_1_name</th>\n",
       "        <th>team_2_name</th>\n",
       "        <th>team_1_prob</th>\n",
       "        <th>team_1_bet_odds</th>\n",
       "        <th>nul_prob</th>\n",
       "        <th>nul_bet_odds</th>\n",
       "        <th>team_2_prob</th>\n",
       "        <th>team_2_bet_odds</th>\n",
       "        <th>prediction_team_pronosoft</th>\n",
       "        <th>under_prob</th>\n",
       "        <th>under_bet_odds</th>\n",
       "        <th>over_prob</th>\n",
       "        <th>over_bet_odds</th>\n",
       "        <th>prediction_uo_pronosoft</th>\n",
       "        <th>team_1_score</th>\n",
       "        <th>team_2_score</th>\n",
       "    </tr>\n",
       "    <tr>\n",
       "        <td>01-10-2018</td>\n",
       "        <td>France - Ligue 2</td>\n",
       "        <td>20:45</td>\n",
       "        <td>Troyes</td>\n",
       "        <td>Auxerre</td>\n",
       "        <td>0.39</td>\n",
       "        <td>2.75</td>\n",
       "        <td>0.18</td>\n",
       "        <td>3.1</td>\n",
       "        <td>0.43</td>\n",
       "        <td>2.8</td>\n",
       "        <td>None</td>\n",
       "        <td>0.68</td>\n",
       "        <td>1.46</td>\n",
       "        <td>0.32</td>\n",
       "        <td>2.0</td>\n",
       "        <td>U</td>\n",
       "        <td>1</td>\n",
       "        <td>0</td>\n",
       "    </tr>\n",
       "    <tr>\n",
       "        <td>01-10-2018</td>\n",
       "        <td>Espagne - Liga Espagnole</td>\n",
       "        <td>21:00</td>\n",
       "        <td>Celta Vigo</td>\n",
       "        <td>Getafe</td>\n",
       "        <td>0.33</td>\n",
       "        <td>2.15</td>\n",
       "        <td>0.38</td>\n",
       "        <td>3.2</td>\n",
       "        <td>0.3</td>\n",
       "        <td>3.6</td>\n",
       "        <td>N</td>\n",
       "        <td>0.51</td>\n",
       "        <td>1.53</td>\n",
       "        <td>0.49</td>\n",
       "        <td>1.88</td>\n",
       "        <td>None</td>\n",
       "        <td>1</td>\n",
       "        <td>1</td>\n",
       "    </tr>\n",
       "    <tr>\n",
       "        <td>01-10-2018</td>\n",
       "        <td>Angleterre - Premier League</td>\n",
       "        <td>21:00</td>\n",
       "        <td>Bournemouth</td>\n",
       "        <td>Crystal Palace</td>\n",
       "        <td>0.39</td>\n",
       "        <td>2.2</td>\n",
       "        <td>0.25</td>\n",
       "        <td>3.4</td>\n",
       "        <td>0.36</td>\n",
       "        <td>3.2</td>\n",
       "        <td>None</td>\n",
       "        <td>0.4</td>\n",
       "        <td>1.85</td>\n",
       "        <td>0.6</td>\n",
       "        <td>1.65</td>\n",
       "        <td>O</td>\n",
       "        <td>2</td>\n",
       "        <td>1</td>\n",
       "    </tr>\n",
       "    <tr>\n",
       "        <td>01-10-2018</td>\n",
       "        <td>Italie - Serie A</td>\n",
       "        <td>20:30</td>\n",
       "        <td>Sampdoria</td>\n",
       "        <td>Spal</td>\n",
       "        <td>0.41</td>\n",
       "        <td>1.72</td>\n",
       "        <td>0.25</td>\n",
       "        <td>3.5</td>\n",
       "        <td>0.33</td>\n",
       "        <td>4.8</td>\n",
       "        <td>None</td>\n",
       "        <td>0.57</td>\n",
       "        <td>1.67</td>\n",
       "        <td>0.43</td>\n",
       "        <td>1.85</td>\n",
       "        <td>None</td>\n",
       "        <td>2</td>\n",
       "        <td>1</td>\n",
       "    </tr>\n",
       "    <tr>\n",
       "        <td>01-10-2018</td>\n",
       "        <td>Portugal - Primeira Liga</td>\n",
       "        <td>21:15</td>\n",
       "        <td>Aves</td>\n",
       "        <td>Portimonense</td>\n",
       "        <td>0.4</td>\n",
       "        <td>2.6</td>\n",
       "        <td>0.3</td>\n",
       "        <td>3.25</td>\n",
       "        <td>0.3</td>\n",
       "        <td>2.45</td>\n",
       "        <td>None</td>\n",
       "        <td>0.69</td>\n",
       "        <td>1.66</td>\n",
       "        <td>0.31</td>\n",
       "        <td>1.73</td>\n",
       "        <td>U</td>\n",
       "        <td>3</td>\n",
       "        <td>0</td>\n",
       "    </tr>\n",
       "</table>"
      ],
      "text/plain": [
       "[('01-10-2018', 'France - Ligue 2', '20:45', 'Troyes', 'Auxerre', 0.39, 2.75, 0.18, 3.1, 0.43, 2.8, None, 0.68, 1.46, 0.32, 2.0, 'U', 1, 0),\n",
       " ('01-10-2018', 'Espagne - Liga Espagnole', '21:00', 'Celta Vigo', 'Getafe', 0.33, 2.15, 0.38, 3.2, 0.3, 3.6, 'N', 0.51, 1.53, 0.49, 1.88, None, 1, 1),\n",
       " ('01-10-2018', 'Angleterre - Premier League', '21:00', 'Bournemouth', 'Crystal Palace', 0.39, 2.2, 0.25, 3.4, 0.36, 3.2, None, 0.4, 1.85, 0.6, 1.65, 'O', 2, 1),\n",
       " ('01-10-2018', 'Italie - Serie A', '20:30', 'Sampdoria', 'Spal', 0.41, 1.72, 0.25, 3.5, 0.33, 4.8, None, 0.57, 1.67, 0.43, 1.85, None, 2, 1),\n",
       " ('01-10-2018', 'Portugal - Primeira Liga', '21:15', 'Aves', 'Portimonense', 0.4, 2.6, 0.3, 3.25, 0.3, 2.45, None, 0.69, 1.66, 0.31, 1.73, 'U', 3, 0)]"
      ]
     },
     "execution_count": 6,
     "metadata": {},
     "output_type": "execute_result"
    }
   ],
   "source": [
    "%%sql \n",
    "\n",
    "SELECT * FROM Football_Bets\n",
    "LIMIT 5"
   ]
  },
  {
   "cell_type": "code",
   "execution_count": 7,
   "metadata": {},
   "outputs": [],
   "source": [
    "result = _\n",
    "\n",
    "query_df_1 = result.DataFrame()"
   ]
  },
  {
   "cell_type": "markdown",
   "metadata": {},
   "source": [
    "---"
   ]
  },
  {
   "cell_type": "markdown",
   "metadata": {},
   "source": [
    "## Query to Dataframe"
   ]
  },
  {
   "cell_type": "markdown",
   "metadata": {},
   "source": [
    "Results in Python for processing, visualization, etc."
   ]
  },
  {
   "cell_type": "code",
   "execution_count": 8,
   "metadata": {},
   "outputs": [],
   "source": [
    "path_query_ex = '..\\SQL\\prob_from_odds.sql'\n",
    "\n",
    "with open(path_query_ex, mode = 'r')as file:\n",
    "        query_ex = file.read()"
   ]
  },
  {
   "cell_type": "code",
   "execution_count": 9,
   "metadata": {},
   "outputs": [
    {
     "data": {
      "text/html": [
       "<div>\n",
       "<style scoped>\n",
       "    .dataframe tbody tr th:only-of-type {\n",
       "        vertical-align: middle;\n",
       "    }\n",
       "\n",
       "    .dataframe tbody tr th {\n",
       "        vertical-align: top;\n",
       "    }\n",
       "\n",
       "    .dataframe thead th {\n",
       "        text-align: right;\n",
       "    }\n",
       "</style>\n",
       "<table border=\"1\" class=\"dataframe\">\n",
       "  <thead>\n",
       "    <tr style=\"text-align: right;\">\n",
       "      <th></th>\n",
       "      <th>date</th>\n",
       "      <th>team_1_name</th>\n",
       "      <th>team_2_name</th>\n",
       "      <th>team_1_prob</th>\n",
       "      <th>team_1_prob_from_odds</th>\n",
       "      <th>team_1_bet_odds</th>\n",
       "      <th>nul_prob</th>\n",
       "      <th>nul_prob_from_odds</th>\n",
       "      <th>nul_bet_odds</th>\n",
       "      <th>team_2_prob</th>\n",
       "      <th>team_2_prob_from_odds</th>\n",
       "      <th>team_2_bet_odds</th>\n",
       "      <th>match_outcome</th>\n",
       "      <th>team_1_profit</th>\n",
       "      <th>nul_profit</th>\n",
       "      <th>team_2_profit</th>\n",
       "    </tr>\n",
       "  </thead>\n",
       "  <tbody>\n",
       "    <tr>\n",
       "      <th>0</th>\n",
       "      <td>01-10-2018</td>\n",
       "      <td>Troyes</td>\n",
       "      <td>Auxerre</td>\n",
       "      <td>0.39</td>\n",
       "      <td>0.35</td>\n",
       "      <td>2.75</td>\n",
       "      <td>0.18</td>\n",
       "      <td>0.31</td>\n",
       "      <td>3.10</td>\n",
       "      <td>0.43</td>\n",
       "      <td>0.34</td>\n",
       "      <td>2.80</td>\n",
       "      <td>1</td>\n",
       "      <td>1.75</td>\n",
       "      <td>-1.0</td>\n",
       "      <td>-1.0</td>\n",
       "    </tr>\n",
       "    <tr>\n",
       "      <th>1</th>\n",
       "      <td>01-10-2018</td>\n",
       "      <td>Celta Vigo</td>\n",
       "      <td>Getafe</td>\n",
       "      <td>0.33</td>\n",
       "      <td>0.44</td>\n",
       "      <td>2.15</td>\n",
       "      <td>0.38</td>\n",
       "      <td>0.30</td>\n",
       "      <td>3.20</td>\n",
       "      <td>0.30</td>\n",
       "      <td>0.26</td>\n",
       "      <td>3.60</td>\n",
       "      <td>N</td>\n",
       "      <td>-1.00</td>\n",
       "      <td>2.2</td>\n",
       "      <td>-1.0</td>\n",
       "    </tr>\n",
       "    <tr>\n",
       "      <th>2</th>\n",
       "      <td>01-10-2018</td>\n",
       "      <td>Bournemouth</td>\n",
       "      <td>Crystal Palace</td>\n",
       "      <td>0.39</td>\n",
       "      <td>0.43</td>\n",
       "      <td>2.20</td>\n",
       "      <td>0.25</td>\n",
       "      <td>0.28</td>\n",
       "      <td>3.40</td>\n",
       "      <td>0.36</td>\n",
       "      <td>0.29</td>\n",
       "      <td>3.20</td>\n",
       "      <td>1</td>\n",
       "      <td>1.20</td>\n",
       "      <td>-1.0</td>\n",
       "      <td>-1.0</td>\n",
       "    </tr>\n",
       "    <tr>\n",
       "      <th>3</th>\n",
       "      <td>01-10-2018</td>\n",
       "      <td>Sampdoria</td>\n",
       "      <td>Spal</td>\n",
       "      <td>0.41</td>\n",
       "      <td>0.54</td>\n",
       "      <td>1.72</td>\n",
       "      <td>0.25</td>\n",
       "      <td>0.27</td>\n",
       "      <td>3.50</td>\n",
       "      <td>0.33</td>\n",
       "      <td>0.19</td>\n",
       "      <td>4.80</td>\n",
       "      <td>1</td>\n",
       "      <td>0.72</td>\n",
       "      <td>-1.0</td>\n",
       "      <td>-1.0</td>\n",
       "    </tr>\n",
       "    <tr>\n",
       "      <th>4</th>\n",
       "      <td>01-10-2018</td>\n",
       "      <td>Aves</td>\n",
       "      <td>Portimonense</td>\n",
       "      <td>0.40</td>\n",
       "      <td>0.35</td>\n",
       "      <td>2.60</td>\n",
       "      <td>0.30</td>\n",
       "      <td>0.28</td>\n",
       "      <td>3.25</td>\n",
       "      <td>0.30</td>\n",
       "      <td>0.37</td>\n",
       "      <td>2.45</td>\n",
       "      <td>1</td>\n",
       "      <td>1.60</td>\n",
       "      <td>-1.0</td>\n",
       "      <td>-1.0</td>\n",
       "    </tr>\n",
       "  </tbody>\n",
       "</table>\n",
       "</div>"
      ],
      "text/plain": [
       "         date  team_1_name     team_2_name  team_1_prob  \\\n",
       "0  01-10-2018       Troyes         Auxerre         0.39   \n",
       "1  01-10-2018   Celta Vigo          Getafe         0.33   \n",
       "2  01-10-2018  Bournemouth  Crystal Palace         0.39   \n",
       "3  01-10-2018    Sampdoria            Spal         0.41   \n",
       "4  01-10-2018         Aves    Portimonense         0.40   \n",
       "\n",
       "   team_1_prob_from_odds  team_1_bet_odds  nul_prob  nul_prob_from_odds  \\\n",
       "0                   0.35             2.75      0.18                0.31   \n",
       "1                   0.44             2.15      0.38                0.30   \n",
       "2                   0.43             2.20      0.25                0.28   \n",
       "3                   0.54             1.72      0.25                0.27   \n",
       "4                   0.35             2.60      0.30                0.28   \n",
       "\n",
       "   nul_bet_odds  team_2_prob  team_2_prob_from_odds  team_2_bet_odds  \\\n",
       "0          3.10         0.43                   0.34             2.80   \n",
       "1          3.20         0.30                   0.26             3.60   \n",
       "2          3.40         0.36                   0.29             3.20   \n",
       "3          3.50         0.33                   0.19             4.80   \n",
       "4          3.25         0.30                   0.37             2.45   \n",
       "\n",
       "  match_outcome  team_1_profit  nul_profit  team_2_profit  \n",
       "0             1           1.75        -1.0           -1.0  \n",
       "1             N          -1.00         2.2           -1.0  \n",
       "2             1           1.20        -1.0           -1.0  \n",
       "3             1           0.72        -1.0           -1.0  \n",
       "4             1           1.60        -1.0           -1.0  "
      ]
     },
     "execution_count": 9,
     "metadata": {},
     "output_type": "execute_result"
    }
   ],
   "source": [
    "query_df_2 = query_to_df(database = path_database, query = query_ex)\n",
    "query_df_2.head()"
   ]
  },
  {
   "cell_type": "markdown",
   "metadata": {},
   "source": [
    "---"
   ]
  },
  {
   "cell_type": "markdown",
   "metadata": {},
   "source": [
    "---"
   ]
  }
 ],
 "metadata": {
  "kernelspec": {
   "display_name": "Python 3 (ipykernel)",
   "language": "python",
   "name": "python3"
  },
  "language_info": {
   "codemirror_mode": {
    "name": "ipython",
    "version": 3
   },
   "file_extension": ".py",
   "mimetype": "text/x-python",
   "name": "python",
   "nbconvert_exporter": "python",
   "pygments_lexer": "ipython3",
   "version": "3.9.6"
  }
 },
 "nbformat": 4,
 "nbformat_minor": 4
}
