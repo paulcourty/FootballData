{
 "cells": [
  {
   "cell_type": "markdown",
   "metadata": {},
   "source": [
    "# Pronosoft Football Data - SQL | Database & Queries"
   ]
  },
  {
   "cell_type": "markdown",
   "metadata": {},
   "source": [
    "---"
   ]
  },
  {
   "cell_type": "markdown",
   "metadata": {},
   "source": [
    "Jupyter Notebook to \n",
    "- Run build_database.py\n",
    "    - Create 'Football_Data' database with SQLite\n",
    "    - Create 'Football_Bets' table\n",
    "    - Update table with pronosft_data CSV\n",
    "\n",
    "\n",
    "- Explore database\n",
    "    - Make a few exploratory queries with Python (_recommended to use Datagrip or other_)"
   ]
  },
  {
   "cell_type": "markdown",
   "metadata": {},
   "source": [
    "## SQLite VS PostgreSQL"
   ]
  },
  {
   "cell_type": "markdown",
   "metadata": {},
   "source": [
    "Considered using PostgreSQL, however for this solo project SQLite is simpler and more efficient"
   ]
  },
  {
   "cell_type": "markdown",
   "metadata": {},
   "source": [
    "Info @ https://tableplus.com/blog/2018/08/sqlite-vs-postgresql-which-database-to-use-and-why.html"
   ]
  },
  {
   "cell_type": "markdown",
   "metadata": {},
   "source": [
    "---"
   ]
  },
  {
   "cell_type": "markdown",
   "metadata": {},
   "source": [
    "---"
   ]
  },
  {
   "cell_type": "markdown",
   "metadata": {},
   "source": [
    "# Paths"
   ]
  },
  {
   "cell_type": "code",
   "execution_count": 3,
   "metadata": {},
   "outputs": [],
   "source": [
    "path_pronosoft_data = '..\\Data\\pronosoft_data.csv'\n",
    "path_pronosoft_data_extended = '..\\Data\\pronosoft_data_extended.csv'\n",
    "\n",
    "name_database = 'Football_Data.sqlite'\n",
    "name_database_extended = 'Football_Data_Extended.sqlite'\n",
    "path_database = '..\\\\SQL\\\\' + name_database\n",
    "path_database_extended = '..\\\\SQL\\\\' + name_database_extended"
   ]
  },
  {
   "cell_type": "markdown",
   "metadata": {},
   "source": [
    "---"
   ]
  },
  {
   "cell_type": "markdown",
   "metadata": {},
   "source": [
    "# Libraries"
   ]
  },
  {
   "cell_type": "code",
   "execution_count": 4,
   "metadata": {},
   "outputs": [],
   "source": [
    "import pandas as pd\n",
    "import sqlite3"
   ]
  },
  {
   "cell_type": "markdown",
   "metadata": {},
   "source": [
    "---"
   ]
  },
  {
   "cell_type": "markdown",
   "metadata": {},
   "source": [
    "# Functions"
   ]
  },
  {
   "cell_type": "markdown",
   "metadata": {},
   "source": [
    "Create Database & Table"
   ]
  },
  {
   "cell_type": "code",
   "execution_count": 22,
   "metadata": {},
   "outputs": [],
   "source": [
    "def create_database(path_database, path_csv, table_name):\n",
    "    # CREATE DATABASE\n",
    "    conn = sqlite3.connect(path_database)\n",
    "    c = conn.cursor()\n",
    "\n",
    "    # UPDATE DATABASE WITH CSV\n",
    "    read_csv = pd.read_csv(path_csv)\n",
    "    read_csv.to_sql(table_name, conn, if_exists = 'replace', index=False)\n",
    "\n",
    "    conn.close()"
   ]
  },
  {
   "cell_type": "markdown",
   "metadata": {},
   "source": [
    "---"
   ]
  },
  {
   "cell_type": "markdown",
   "metadata": {},
   "source": [
    "---"
   ]
  },
  {
   "cell_type": "markdown",
   "metadata": {},
   "source": [
    "# Explore Database"
   ]
  },
  {
   "cell_type": "markdown",
   "metadata": {},
   "source": [
    "## Pronosoft Database"
   ]
  },
  {
   "cell_type": "code",
   "execution_count": 26,
   "metadata": {},
   "outputs": [],
   "source": [
    "table_name = 'Football_Bets'\n",
    "\n",
    "create_database(path_database, path_pronosoft_data, table_name)"
   ]
  },
  {
   "cell_type": "code",
   "execution_count": 27,
   "metadata": {},
   "outputs": [
    {
     "name": "stdout",
     "output_type": "stream",
     "text": [
      "The sql extension is already loaded. To reload it, use:\n",
      "  %reload_ext sql\n"
     ]
    }
   ],
   "source": [
    "# !pip install ipython-sql\n",
    "\n",
    "%load_ext sql\n",
    "%sql sqlite:///../SQL/Football_Data.sqlite"
   ]
  },
  {
   "cell_type": "code",
   "execution_count": 28,
   "metadata": {},
   "outputs": [
    {
     "name": "stdout",
     "output_type": "stream",
     "text": [
      " * sqlite:///../SQL/Football_Data.sqlite\n",
      "   sqlite:///../SQL/Football_Data_Extended.sqlite\n",
      "Done.\n"
     ]
    },
    {
     "data": {
      "text/html": [
       "<table>\n",
       "    <tr>\n",
       "        <th>date</th>\n",
       "        <th>league</th>\n",
       "        <th>time</th>\n",
       "        <th>team_1_name</th>\n",
       "        <th>team_2_name</th>\n",
       "        <th>team_1_prob</th>\n",
       "        <th>team_1_bet_odds</th>\n",
       "        <th>nul_prob</th>\n",
       "        <th>nul_bet_odds</th>\n",
       "        <th>team_2_prob</th>\n",
       "        <th>team_2_bet_odds</th>\n",
       "        <th>prediction_team_pronosoft</th>\n",
       "        <th>under_prob</th>\n",
       "        <th>under_bet_odds</th>\n",
       "        <th>over_prob</th>\n",
       "        <th>over_bet_odds</th>\n",
       "        <th>prediction_uo_pronosoft</th>\n",
       "        <th>team_1_score</th>\n",
       "        <th>team_2_score</th>\n",
       "    </tr>\n",
       "    <tr>\n",
       "        <td>01-10-2018</td>\n",
       "        <td>France - Ligue 2</td>\n",
       "        <td>20:45</td>\n",
       "        <td>Troyes</td>\n",
       "        <td>Auxerre</td>\n",
       "        <td>0.39</td>\n",
       "        <td>2.75</td>\n",
       "        <td>0.18</td>\n",
       "        <td>3.1</td>\n",
       "        <td>0.43</td>\n",
       "        <td>2.8</td>\n",
       "        <td>None</td>\n",
       "        <td>0.68</td>\n",
       "        <td>1.46</td>\n",
       "        <td>0.32</td>\n",
       "        <td>2.0</td>\n",
       "        <td>U</td>\n",
       "        <td>1</td>\n",
       "        <td>0</td>\n",
       "    </tr>\n",
       "    <tr>\n",
       "        <td>01-10-2018</td>\n",
       "        <td>Espagne - Liga Espagnole</td>\n",
       "        <td>21:00</td>\n",
       "        <td>Celta Vigo</td>\n",
       "        <td>Getafe</td>\n",
       "        <td>0.33</td>\n",
       "        <td>2.15</td>\n",
       "        <td>0.38</td>\n",
       "        <td>3.2</td>\n",
       "        <td>0.3</td>\n",
       "        <td>3.6</td>\n",
       "        <td>N</td>\n",
       "        <td>0.51</td>\n",
       "        <td>1.53</td>\n",
       "        <td>0.49</td>\n",
       "        <td>1.88</td>\n",
       "        <td>None</td>\n",
       "        <td>1</td>\n",
       "        <td>1</td>\n",
       "    </tr>\n",
       "    <tr>\n",
       "        <td>01-10-2018</td>\n",
       "        <td>Angleterre - Premier League</td>\n",
       "        <td>21:00</td>\n",
       "        <td>Bournemouth</td>\n",
       "        <td>Crystal Palace</td>\n",
       "        <td>0.39</td>\n",
       "        <td>2.2</td>\n",
       "        <td>0.25</td>\n",
       "        <td>3.4</td>\n",
       "        <td>0.36</td>\n",
       "        <td>3.2</td>\n",
       "        <td>None</td>\n",
       "        <td>0.4</td>\n",
       "        <td>1.85</td>\n",
       "        <td>0.6</td>\n",
       "        <td>1.65</td>\n",
       "        <td>O</td>\n",
       "        <td>2</td>\n",
       "        <td>1</td>\n",
       "    </tr>\n",
       "    <tr>\n",
       "        <td>01-10-2018</td>\n",
       "        <td>Italie - Serie A</td>\n",
       "        <td>20:30</td>\n",
       "        <td>Sampdoria</td>\n",
       "        <td>Spal</td>\n",
       "        <td>0.41</td>\n",
       "        <td>1.72</td>\n",
       "        <td>0.25</td>\n",
       "        <td>3.5</td>\n",
       "        <td>0.33</td>\n",
       "        <td>4.8</td>\n",
       "        <td>None</td>\n",
       "        <td>0.57</td>\n",
       "        <td>1.67</td>\n",
       "        <td>0.43</td>\n",
       "        <td>1.85</td>\n",
       "        <td>None</td>\n",
       "        <td>2</td>\n",
       "        <td>1</td>\n",
       "    </tr>\n",
       "    <tr>\n",
       "        <td>01-10-2018</td>\n",
       "        <td>Portugal - Primeira Liga</td>\n",
       "        <td>21:15</td>\n",
       "        <td>Aves</td>\n",
       "        <td>Portimonense</td>\n",
       "        <td>0.4</td>\n",
       "        <td>2.6</td>\n",
       "        <td>0.3</td>\n",
       "        <td>3.25</td>\n",
       "        <td>0.3</td>\n",
       "        <td>2.45</td>\n",
       "        <td>None</td>\n",
       "        <td>0.69</td>\n",
       "        <td>1.66</td>\n",
       "        <td>0.31</td>\n",
       "        <td>1.73</td>\n",
       "        <td>U</td>\n",
       "        <td>3</td>\n",
       "        <td>0</td>\n",
       "    </tr>\n",
       "</table>"
      ],
      "text/plain": [
       "[('01-10-2018', 'France - Ligue 2', '20:45', 'Troyes', 'Auxerre', 0.39, 2.75, 0.18, 3.1, 0.43, 2.8, None, 0.68, 1.46, 0.32, 2.0, 'U', 1, 0),\n",
       " ('01-10-2018', 'Espagne - Liga Espagnole', '21:00', 'Celta Vigo', 'Getafe', 0.33, 2.15, 0.38, 3.2, 0.3, 3.6, 'N', 0.51, 1.53, 0.49, 1.88, None, 1, 1),\n",
       " ('01-10-2018', 'Angleterre - Premier League', '21:00', 'Bournemouth', 'Crystal Palace', 0.39, 2.2, 0.25, 3.4, 0.36, 3.2, None, 0.4, 1.85, 0.6, 1.65, 'O', 2, 1),\n",
       " ('01-10-2018', 'Italie - Serie A', '20:30', 'Sampdoria', 'Spal', 0.41, 1.72, 0.25, 3.5, 0.33, 4.8, None, 0.57, 1.67, 0.43, 1.85, None, 2, 1),\n",
       " ('01-10-2018', 'Portugal - Primeira Liga', '21:15', 'Aves', 'Portimonense', 0.4, 2.6, 0.3, 3.25, 0.3, 2.45, None, 0.69, 1.66, 0.31, 1.73, 'U', 3, 0)]"
      ]
     },
     "execution_count": 28,
     "metadata": {},
     "output_type": "execute_result"
    }
   ],
   "source": [
    "%%sql \n",
    "\n",
    "SELECT * FROM Football_Bets\n",
    "LIMIT 5"
   ]
  },
  {
   "cell_type": "code",
   "execution_count": 9,
   "metadata": {},
   "outputs": [],
   "source": [
    "result = _\n",
    "\n",
    "query_df_1 = result.DataFrame()"
   ]
  },
  {
   "cell_type": "markdown",
   "metadata": {},
   "source": [
    "---"
   ]
  },
  {
   "cell_type": "markdown",
   "metadata": {},
   "source": [
    "## Pronosoft Database Extended"
   ]
  },
  {
   "cell_type": "code",
   "execution_count": 23,
   "metadata": {},
   "outputs": [],
   "source": [
    "table_name = 'Football_Bets'\n",
    "\n",
    "create_database(path_database_extended, path_pronosoft_data_extended, table_name)"
   ]
  },
  {
   "cell_type": "code",
   "execution_count": 24,
   "metadata": {},
   "outputs": [
    {
     "name": "stdout",
     "output_type": "stream",
     "text": [
      "The sql extension is already loaded. To reload it, use:\n",
      "  %reload_ext sql\n"
     ]
    }
   ],
   "source": [
    "%load_ext sql\n",
    "%sql sqlite:///../SQL/Football_Data_Extended.sqlite"
   ]
  },
  {
   "cell_type": "code",
   "execution_count": 25,
   "metadata": {},
   "outputs": [
    {
     "name": "stdout",
     "output_type": "stream",
     "text": [
      "   sqlite:///../SQL/Football_Data.sqlite\n",
      " * sqlite:///../SQL/Football_Data_Extended.sqlite\n",
      "Done.\n"
     ]
    },
    {
     "data": {
      "text/html": [
       "<table>\n",
       "    <tr>\n",
       "        <th>date</th>\n",
       "        <th>league</th>\n",
       "        <th>team_1_name</th>\n",
       "        <th>team_2_name</th>\n",
       "        <th>team_1_bet_odds</th>\n",
       "        <th>team_1_prob_from_odds</th>\n",
       "        <th>team_1_ev_from_odds</th>\n",
       "        <th>nul_bet_odds</th>\n",
       "        <th>nul_prob_from_odds</th>\n",
       "        <th>nul_ev_from_odds</th>\n",
       "        <th>team_2_bet_odds</th>\n",
       "        <th>team_2_prob_from_odds</th>\n",
       "        <th>team_2_ev_from_odds</th>\n",
       "        <th>team_1_score</th>\n",
       "        <th>team_2_score</th>\n",
       "    </tr>\n",
       "    <tr>\n",
       "        <td>16-08-2019</td>\n",
       "        <td>Croatie - Division 1</td>\n",
       "        <td>Inter Zapresic</td>\n",
       "        <td>Dinamo Zagreb</td>\n",
       "        <td>9.5</td>\n",
       "        <td>0.27</td>\n",
       "        <td>1.56</td>\n",
       "        <td>5.4</td>\n",
       "        <td>0.48</td>\n",
       "        <td>1.59</td>\n",
       "        <td>10.3</td>\n",
       "        <td>0.25</td>\n",
       "        <td>1.58</td>\n",
       "        <td>1</td>\n",
       "        <td>2</td>\n",
       "    </tr>\n",
       "    <tr>\n",
       "        <td>19-06-2020</td>\n",
       "        <td>Russie - Premier League</td>\n",
       "        <td>Pfc Sochi</td>\n",
       "        <td>FC Rostov</td>\n",
       "        <td>2.6</td>\n",
       "        <td>0.73</td>\n",
       "        <td>0.9</td>\n",
       "        <td>12.0</td>\n",
       "        <td>0.16</td>\n",
       "        <td>0.92</td>\n",
       "        <td>17.0</td>\n",
       "        <td>0.11</td>\n",
       "        <td>0.87</td>\n",
       "        <td>10</td>\n",
       "        <td>1</td>\n",
       "    </tr>\n",
       "    <tr>\n",
       "        <td>21-01-2020</td>\n",
       "        <td>Gibraltar - National League - Groupe Relégation</td>\n",
       "        <td>Mons Calpe SC</td>\n",
       "        <td>Manchester 62 FC</td>\n",
       "        <td>3.85</td>\n",
       "        <td>0.41</td>\n",
       "        <td>0.58</td>\n",
       "        <td>5.0</td>\n",
       "        <td>0.31</td>\n",
       "        <td>0.55</td>\n",
       "        <td>5.6</td>\n",
       "        <td>0.28</td>\n",
       "        <td>0.57</td>\n",
       "        <td>3</td>\n",
       "        <td>0</td>\n",
       "    </tr>\n",
       "    <tr>\n",
       "        <td>26-04-2019</td>\n",
       "        <td>Malte - Division 1</td>\n",
       "        <td>St. Andrews FC</td>\n",
       "        <td>Gzira United</td>\n",
       "        <td>3.8</td>\n",
       "        <td>0.4</td>\n",
       "        <td>0.52</td>\n",
       "        <td>4.0</td>\n",
       "        <td>0.38</td>\n",
       "        <td>0.52</td>\n",
       "        <td>7.0</td>\n",
       "        <td>0.22</td>\n",
       "        <td>0.54</td>\n",
       "        <td>1</td>\n",
       "        <td>0</td>\n",
       "    </tr>\n",
       "    <tr>\n",
       "        <td>18-04-2021</td>\n",
       "        <td>Tunisie - Ligue 1</td>\n",
       "        <td>Cs Sfaxien</td>\n",
       "        <td>Etoile Du Sahel</td>\n",
       "        <td>6.75</td>\n",
       "        <td>0.2</td>\n",
       "        <td>0.35</td>\n",
       "        <td>3.8</td>\n",
       "        <td>0.35</td>\n",
       "        <td>0.33</td>\n",
       "        <td>2.9</td>\n",
       "        <td>0.46</td>\n",
       "        <td>0.33</td>\n",
       "        <td>1</td>\n",
       "        <td>2</td>\n",
       "    </tr>\n",
       "</table>"
      ],
      "text/plain": [
       "[('16-08-2019', 'Croatie - Division 1', 'Inter Zapresic', 'Dinamo Zagreb', 9.5, 0.27, 1.56, 5.4, 0.48, 1.59, 10.3, 0.25, 1.58, 1, 2),\n",
       " ('19-06-2020', 'Russie - Premier League', 'Pfc Sochi', 'FC Rostov', 2.6, 0.73, 0.9, 12.0, 0.16, 0.92, 17.0, 0.11, 0.87, 10, 1),\n",
       " ('21-01-2020', 'Gibraltar - National League - Groupe Relégation', 'Mons Calpe SC', 'Manchester 62 FC', 3.85, 0.41, 0.58, 5.0, 0.31, 0.55, 5.6, 0.28, 0.57, 3, 0),\n",
       " ('26-04-2019', 'Malte - Division 1', 'St. Andrews FC', 'Gzira United', 3.8, 0.4, 0.52, 4.0, 0.38, 0.52, 7.0, 0.22, 0.54, 1, 0),\n",
       " ('18-04-2021', 'Tunisie - Ligue 1', 'Cs Sfaxien', 'Etoile Du Sahel', 6.75, 0.2, 0.35, 3.8, 0.35, 0.33, 2.9, 0.46, 0.33, 1, 2)]"
      ]
     },
     "execution_count": 25,
     "metadata": {},
     "output_type": "execute_result"
    }
   ],
   "source": [
    "%%sql \n",
    "\n",
    "SELECT date, league, team_1_name, team_2_name, team_1_bet_odds, team_1_prob_from_odds, team_1_ev_from_odds, nul_bet_odds, nul_prob_from_odds, nul_ev_from_odds, team_2_bet_odds, team_2_prob_from_odds, team_2_ev_from_odds, team_1_score, team_2_score FROM Football_Bets\n",
    "ORDER BY team_1_ev_from_odds DESC\n",
    "LIMIT 5"
   ]
  },
  {
   "cell_type": "markdown",
   "metadata": {},
   "source": [
    "---"
   ]
  },
  {
   "cell_type": "markdown",
   "metadata": {},
   "source": [
    "---"
   ]
  }
 ],
 "metadata": {
  "kernelspec": {
   "display_name": "Python 3",
   "language": "python",
   "name": "python3"
  },
  "language_info": {
   "codemirror_mode": {
    "name": "ipython",
    "version": 3
   },
   "file_extension": ".py",
   "mimetype": "text/x-python",
   "name": "python",
   "nbconvert_exporter": "python",
   "pygments_lexer": "ipython3",
   "version": "3.7.4"
  }
 },
 "nbformat": 4,
 "nbformat_minor": 4
}
